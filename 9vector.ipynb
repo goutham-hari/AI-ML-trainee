{
 "cells": [
  {
   "cell_type": "code",
   "execution_count": 3,
   "metadata": {},
   "outputs": [
    {
     "name": "stdout",
     "output_type": "stream",
     "text": [
      "Aeronautical vector: True 00v: False\n",
      "industry vector: True 00v: False\n",
      "is vector: True 00v: False\n",
      "booming vector: True 00v: False\n",
      "right vector: True 00v: False\n",
      "now vector: True 00v: False\n",
      ". vector: True 00v: False\n"
     ]
    }
   ],
   "source": [
    "import spacy\n",
    "\n",
    "nlp = spacy.load(\"en_core_web_md\")\n",
    "\n",
    "text = nlp(\"Aeronautical industry is booming right now.\")\n",
    "\n",
    "for token in text:\n",
    "    print(token.text,\"vector:\",token.has_vector,\"00v:\",token.is_oov)\n",
    "\n",
    "\n",
    "\n"
   ]
  },
  {
   "cell_type": "code",
   "execution_count": 6,
   "metadata": {},
   "outputs": [
    {
     "name": "stdout",
     "output_type": "stream",
     "text": [
      "\n",
      "Similarities with 'days':\n",
      "king: 0.1327938472794158\n",
      "queen: 0.04391897688404434\n",
      "man: 0.11160394948105615\n",
      "woman: 0.09284283840718419\n",
      "apple: 0.06921158699694566\n",
      "orange: 0.06215456282008693\n",
      "dog: 0.07725617271873692\n",
      "cat: 0.020911400183129578\n",
      "sun: 0.1469203563775034\n",
      "moon: 0.15659757466080876\n"
     ]
    }
   ],
   "source": [
    "words_to_check = [\"king\", \"queen\", \"man\", \"woman\", \"apple\", \"orange\", \"dog\", \"cat\", \"sun\", \"moon\"]\n",
    "target_word = \"days\"\n",
    "similarities = {}\n",
    "target_token = nlp(target_word)\n",
    "\n",
    "for word in words_to_check:\n",
    "    token = nlp(word)\n",
    "    similarity = target_token.similarity(token)\n",
    "    similarities[word] = similarity\n",
    "\n",
    "print(f\"\\nSimilarities with '{target_word}':\")\n",
    "for word, similarity in similarities.items():\n",
    "    print(f\"{word}: {similarity}\")"
   ]
  }
 ],
 "metadata": {
  "kernelspec": {
   "display_name": "my_venv",
   "language": "python",
   "name": "python3"
  },
  "language_info": {
   "codemirror_mode": {
    "name": "ipython",
    "version": 3
   },
   "file_extension": ".py",
   "mimetype": "text/x-python",
   "name": "python",
   "nbconvert_exporter": "python",
   "pygments_lexer": "ipython3",
   "version": "3.11.6"
  }
 },
 "nbformat": 4,
 "nbformat_minor": 2
}
