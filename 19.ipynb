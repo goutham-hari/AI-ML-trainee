{
 "cells": [
  {
   "cell_type": "code",
   "execution_count": 1,
   "metadata": {},
   "outputs": [],
   "source": [
    "import pandas as pd\n",
    "import numpy as np\n",
    "from sklearn.model_selection import train_test_split\n",
    "from sklearn.preprocessing import StandardScaler\n",
    "from sklearn.tree import DecisionTreeRegressor\n",
    "from sklearn.metrics import r2_score\n",
    "from sklearn.ensemble import RandomForestRegressor\n",
    "from sklearn.neighbors import KNeighborsRegressor\n",
    "from sklearn.svm import SVR\n",
    "from sklearn.linear_model import BayesianRidge\n"
   ]
  },
  {
   "cell_type": "code",
   "execution_count": 3,
   "metadata": {},
   "outputs": [
    {
     "name": "stdout",
     "output_type": "stream",
     "text": [
      "            Date    Open    High     Low    Last   Close  \\\n",
      "0     2018-09-28  234.05  235.95  230.20  233.50  233.75   \n",
      "1     2018-09-27  234.55  236.80  231.10  233.80  233.25   \n",
      "2     2018-09-26  240.00  240.00  232.50  235.00  234.25   \n",
      "3     2018-09-25  233.30  236.75  232.00  236.25  236.10   \n",
      "4     2018-09-24  233.55  239.20  230.75  234.00  233.30   \n",
      "...          ...     ...     ...     ...     ...     ...   \n",
      "2030  2010-07-27  117.60  119.50  112.00  118.80  118.65   \n",
      "2031  2010-07-26  120.10  121.00  117.10  117.10  117.60   \n",
      "2032  2010-07-23  121.80  121.95  120.25  120.35  120.65   \n",
      "2033  2010-07-22  120.30  122.00  120.25  120.75  120.90   \n",
      "2034  2010-07-21  122.10  123.00  121.05  121.10  121.55   \n",
      "\n",
      "      Total Trade Quantity  Turnover (Lacs)  \n",
      "0                  3069914          7162.35  \n",
      "1                  5082859         11859.95  \n",
      "2                  2240909          5248.60  \n",
      "3                  2349368          5503.90  \n",
      "4                  3423509          7999.55  \n",
      "...                    ...              ...  \n",
      "2030                586100           694.98  \n",
      "2031                658440           780.01  \n",
      "2032                281312           340.31  \n",
      "2033                293312           355.17  \n",
      "2034                658666           803.56  \n",
      "\n",
      "[2035 rows x 8 columns]\n"
     ]
    }
   ],
   "source": [
    "ds=pd.read_csv(\"Untitled spreadsheet - NSE-TATAGLOBAL.csv\")\n",
    "print(ds)"
   ]
  },
  {
   "cell_type": "code",
   "execution_count": 4,
   "metadata": {},
   "outputs": [
    {
     "name": "stdout",
     "output_type": "stream",
     "text": [
      "         Date    Open    High     Low    Last   Close  Total Trade Quantity  \\\n",
      "0  2018-09-28  234.05  235.95  230.20  233.50  233.75               3069914   \n",
      "1  2018-09-27  234.55  236.80  231.10  233.80  233.25               5082859   \n",
      "2  2018-09-26  240.00  240.00  232.50  235.00  234.25               2240909   \n",
      "3  2018-09-25  233.30  236.75  232.00  236.25  236.10               2349368   \n",
      "4  2018-09-24  233.55  239.20  230.75  234.00  233.30               3423509   \n",
      "\n",
      "   Turnover (Lacs)  \n",
      "0          7162.35  \n",
      "1         11859.95  \n",
      "2          5248.60  \n",
      "3          5503.90  \n",
      "4          7999.55  \n"
     ]
    }
   ],
   "source": [
    "print(ds.head())"
   ]
  },
  {
   "cell_type": "code",
   "execution_count": 5,
   "metadata": {},
   "outputs": [
    {
     "name": "stdout",
     "output_type": "stream",
     "text": [
      "            Date   Open    High     Low    Last   Close  Total Trade Quantity  \\\n",
      "2030  2010-07-27  117.6  119.50  112.00  118.80  118.65                586100   \n",
      "2031  2010-07-26  120.1  121.00  117.10  117.10  117.60                658440   \n",
      "2032  2010-07-23  121.8  121.95  120.25  120.35  120.65                281312   \n",
      "2033  2010-07-22  120.3  122.00  120.25  120.75  120.90                293312   \n",
      "2034  2010-07-21  122.1  123.00  121.05  121.10  121.55                658666   \n",
      "\n",
      "      Turnover (Lacs)  \n",
      "2030           694.98  \n",
      "2031           780.01  \n",
      "2032           340.31  \n",
      "2033           355.17  \n",
      "2034           803.56  \n"
     ]
    }
   ],
   "source": [
    "print(ds.tail())"
   ]
  },
  {
   "cell_type": "code",
   "execution_count": 6,
   "metadata": {},
   "outputs": [
    {
     "name": "stdout",
     "output_type": "stream",
     "text": [
      "<class 'pandas.core.frame.DataFrame'>\n",
      "RangeIndex: 2035 entries, 0 to 2034\n",
      "Data columns (total 8 columns):\n",
      " #   Column                Non-Null Count  Dtype  \n",
      "---  ------                --------------  -----  \n",
      " 0   Date                  2035 non-null   object \n",
      " 1   Open                  2035 non-null   float64\n",
      " 2   High                  2035 non-null   float64\n",
      " 3   Low                   2035 non-null   float64\n",
      " 4   Last                  2035 non-null   float64\n",
      " 5   Close                 2035 non-null   float64\n",
      " 6   Total Trade Quantity  2035 non-null   int64  \n",
      " 7   Turnover (Lacs)       2035 non-null   float64\n",
      "dtypes: float64(6), int64(1), object(1)\n",
      "memory usage: 127.3+ KB\n",
      "None\n"
     ]
    }
   ],
   "source": [
    "print(ds.info())"
   ]
  },
  {
   "cell_type": "code",
   "execution_count": 7,
   "metadata": {},
   "outputs": [
    {
     "name": "stdout",
     "output_type": "stream",
     "text": [
      "              Open         High          Low         Last       Close  \\\n",
      "count  2035.000000  2035.000000  2035.000000  2035.000000  2035.00000   \n",
      "mean    149.713735   151.992826   147.293931   149.474251   149.45027   \n",
      "std      48.664509    49.413109    47.931958    48.732570    48.71204   \n",
      "min      81.100000    82.800000    80.000000    81.000000    80.95000   \n",
      "25%     120.025000   122.100000   118.300000   120.075000   120.05000   \n",
      "50%     141.500000   143.400000   139.600000   141.100000   141.25000   \n",
      "75%     157.175000   159.400000   155.150000   156.925000   156.90000   \n",
      "max     327.700000   328.750000   321.650000   325.950000   325.75000   \n",
      "\n",
      "       Total Trade Quantity  Turnover (Lacs)  \n",
      "count          2.035000e+03      2035.000000  \n",
      "mean           2.335681e+06      3899.980565  \n",
      "std            2.091778e+06      4570.767877  \n",
      "min            3.961000e+04        37.040000  \n",
      "25%            1.146444e+06      1427.460000  \n",
      "50%            1.783456e+06      2512.030000  \n",
      "75%            2.813594e+06      4539.015000  \n",
      "max            2.919102e+07     55755.080000  \n"
     ]
    }
   ],
   "source": [
    "print(ds.describe())"
   ]
  },
  {
   "cell_type": "code",
   "execution_count": 10,
   "metadata": {},
   "outputs": [
    {
     "name": "stdout",
     "output_type": "stream",
     "text": [
      "Date                     object\n",
      "Open                    float64\n",
      "High                    float64\n",
      "Low                     float64\n",
      "Last                    float64\n",
      "Close                   float64\n",
      "Total Trade Quantity      int64\n",
      "Turnover (Lacs)         float64\n",
      "dtype: object\n"
     ]
    }
   ],
   "source": [
    "print(ds.dtypes)"
   ]
  },
  {
   "cell_type": "code",
   "execution_count": 11,
   "metadata": {},
   "outputs": [
    {
     "name": "stdout",
     "output_type": "stream",
     "text": [
      "Index(['Date', 'Open', 'High', 'Low', 'Last', 'Close', 'Total Trade Quantity',\n",
      "       'Turnover (Lacs)'],\n",
      "      dtype='object')\n"
     ]
    }
   ],
   "source": [
    "print(ds.columns)"
   ]
  },
  {
   "cell_type": "code",
   "execution_count": 14,
   "metadata": {},
   "outputs": [
    {
     "name": "stdout",
     "output_type": "stream",
     "text": [
      "(2035, 8)\n"
     ]
    }
   ],
   "source": [
    "print(ds.shape)"
   ]
  },
  {
   "cell_type": "code",
   "execution_count": 15,
   "metadata": {},
   "outputs": [
    {
     "name": "stdout",
     "output_type": "stream",
     "text": [
      "Date                    2035\n",
      "Open                    1165\n",
      "High                    1257\n",
      "Low                     1263\n",
      "Last                    1268\n",
      "Close                   1313\n",
      "Total Trade Quantity    2034\n",
      "Turnover (Lacs)         2030\n",
      "dtype: int64\n"
     ]
    }
   ],
   "source": [
    "print(ds.nunique())"
   ]
  },
  {
   "cell_type": "code",
   "execution_count": 16,
   "metadata": {},
   "outputs": [
    {
     "name": "stdout",
     "output_type": "stream",
     "text": [
      "Date                    0\n",
      "Open                    0\n",
      "High                    0\n",
      "Low                     0\n",
      "Last                    0\n",
      "Close                   0\n",
      "Total Trade Quantity    0\n",
      "Turnover (Lacs)         0\n",
      "dtype: int64\n"
     ]
    }
   ],
   "source": [
    "print(ds.isna().sum())"
   ]
  },
  {
   "cell_type": "code",
   "execution_count": 17,
   "metadata": {},
   "outputs": [],
   "source": [
    "x=ds.iloc[:,1:-1].values\n",
    "y=ds.iloc[:,-1].values"
   ]
  },
  {
   "cell_type": "code",
   "execution_count": 18,
   "metadata": {},
   "outputs": [],
   "source": [
    "x_train,x_test,y_train,y_test=train_test_split(x,y,test_size=0.3)"
   ]
  },
  {
   "cell_type": "code",
   "execution_count": 19,
   "metadata": {},
   "outputs": [],
   "source": [
    "sc=StandardScaler()\n",
    "x_train=sc.fit_transform(x_train)\n",
    "x_test=sc.fit_transform(x_test)"
   ]
  },
  {
   "cell_type": "code",
   "execution_count": null,
   "metadata": {},
   "outputs": [],
   "source": [
    "DICISION TREE"
   ]
  },
  {
   "cell_type": "code",
   "execution_count": 20,
   "metadata": {},
   "outputs": [
    {
     "name": "stdout",
     "output_type": "stream",
     "text": [
      "0.8663003445177462\n"
     ]
    }
   ],
   "source": [
    "dr=DecisionTreeRegressor()\n",
    "dr=dr.fit(x_train,y_train)\n",
    "y_pred=dr.predict(x_test)\n",
    "print(r2_score(y_test,y_pred))\n",
    "\n"
   ]
  },
  {
   "cell_type": "code",
   "execution_count": 21,
   "metadata": {},
   "outputs": [
    {
     "name": "stdout",
     "output_type": "stream",
     "text": [
      "0.9303454170500137\n"
     ]
    }
   ],
   "source": [
    "rf=RandomForestRegressor(n_estimators=10)\n",
    "rf=rf.fit(x_train,y_train)\n",
    "y_pred=rf.predict(x_test)\n",
    "print(r2_score(y_test,y_pred))"
   ]
  },
  {
   "cell_type": "code",
   "execution_count": null,
   "metadata": {},
   "outputs": [],
   "source": [
    "SVM"
   ]
  },
  {
   "cell_type": "code",
   "execution_count": 23,
   "metadata": {},
   "outputs": [
    {
     "name": "stdout",
     "output_type": "stream",
     "text": [
      "0.9303454170500137\n"
     ]
    }
   ],
   "source": [
    "sv=SVR()\n",
    "sv=sv.fit(x_train,y_train)\n",
    "print(r2_score(y_test,y_pred))"
   ]
  },
  {
   "cell_type": "code",
   "execution_count": null,
   "metadata": {},
   "outputs": [],
   "source": [
    "Navive Bayes"
   ]
  },
  {
   "cell_type": "code",
   "execution_count": 25,
   "metadata": {},
   "outputs": [
    {
     "name": "stdout",
     "output_type": "stream",
     "text": [
      "0.9204972277676888\n"
     ]
    }
   ],
   "source": [
    "BR=BayesianRidge()\n",
    "BR2=BR.fit(x_train,y_train)\n",
    "y_pred=BR2.predict(x_test)\n",
    "print(r2_score(y_test,y_pred))"
   ]
  },
  {
   "cell_type": "code",
   "execution_count": null,
   "metadata": {},
   "outputs": [],
   "source": [
    "FEATURE IMPORTANCE"
   ]
  },
  {
   "cell_type": "code",
   "execution_count": 26,
   "metadata": {},
   "outputs": [
    {
     "name": "stdout",
     "output_type": "stream",
     "text": [
      "feature : 0 , Score : 0.01893\n",
      "feature : 1 , Score : 0.02566\n",
      "feature : 2 , Score : 0.02274\n",
      "feature : 3 , Score : 0.01774\n",
      "feature : 4 , Score : 0.03026\n",
      "feature : 5 , Score : 0.88467\n"
     ]
    }
   ],
   "source": [
    "importance = rf.feature_importances_\n",
    "for i,v in enumerate(importance):\n",
    "    print(\"feature : %0d , Score : %.5f\"%(i,v))"
   ]
  },
  {
   "cell_type": "code",
   "execution_count": 28,
   "metadata": {},
   "outputs": [
    {
     "data": {
      "text/plain": [
       "<Axes: >"
      ]
     },
     "execution_count": 28,
     "metadata": {},
     "output_type": "execute_result"
    },
    {
     "data": {
      "image/png": "[encoded data removed]",
      "text/plain": [
       "<Figure size 640x480 with 1 Axes>"
      ]
     },
     "metadata": {},
     "output_type": "display_data"
    }
   ],
   "source": [
    "index=ds.columns[1:-1]\n",
    "importance=pd.Series(rf.feature_importances_,index=index)\n",
    "importance.nlargest(6).plot(kind=\"barh\",colormap=\"winter\")"
   ]
  },
  {
   "cell_type": "code",
   "execution_count": null,
   "metadata": {},
   "outputs": [],
   "source": [
    "PREDICTION"
   ]
  },
  {
   "cell_type": "code",
   "execution_count": 29,
   "metadata": {},
   "outputs": [
    {
     "name": "stdout",
     "output_type": "stream",
     "text": [
      "[3721.6]\n"
     ]
    }
   ],
   "source": [
    "print(rf.predict(sc.transform([[234.55, 234.60, 221.05, 230.30, 230.90, 1534749.0]])))"
   ]
  }
 ],
 "metadata": {
  "kernelspec": {
   "display_name": "my_venv",
   "language": "python",
   "name": "python3"
  },
  "language_info": {
   "codemirror_mode": {
    "name": "ipython",
    "version": 3
   },
   "file_extension": ".py",
   "mimetype": "text/x-python",
   "name": "python",
   "nbconvert_exporter": "python",
   "pygments_lexer": "ipython3",
   "version": "3.11.6"
  }
 },
 "nbformat": 4,
 "nbformat_minor": 2
}
