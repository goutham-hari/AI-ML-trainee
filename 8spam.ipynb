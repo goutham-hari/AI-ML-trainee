{
 "cells": [
  {
   "cell_type": "code",
   "execution_count": 14,
   "metadata": {},
   "outputs": [
    {
     "name": "stdout",
     "output_type": "stream",
     "text": [
      "ID: 1, Classification: Good\n",
      "ID: 2, Classification: Good\n",
      "ID: 3, Classification: Bad\n",
      "ID: 4, Classification: Good\n",
      "ID: 5, Classification: Good\n",
      "ID: 6, Classification: Good\n",
      "ID: 7, Classification: Bad\n",
      "ID: 8, Classification: Good\n",
      "ID: 9, Classification: Bad\n",
      "ID: 10, Classification: Good\n"
     ]
    }
   ],
   "source": [
    "import pandas as pd\n",
    "from nltk.stem import WordNetLemmatizer\n",
    "\n",
    "data = pd.read_csv(\"spam.csv\")\n",
    "\n",
    "lemmatizer = WordNetLemmatizer()\n",
    "\n",
    "spam_keywords = [\"money\", \"rich\", \"urgent\", \"fix\", \"cryptocurrency\", \"discount\", \"click\", \"risk\"]\n",
    "\\\n",
    "def classify_email(email):\n",
    "  lemmatized_email = \" \".join([lemmatizer.lemmatize(word) for word in email.split()])\n",
    "  \n",
    "  for keyword in spam_keywords:\n",
    "    if keyword in lemmatized_email:\n",
    "      return \"Bad\"\n",
    "  return \"Good\"\n",
    "\n",
    "for index, row in data.iterrows():\n",
    "  email_id = row[\"ID\"]\n",
    "  email_content = row[\"Content\"]\n",
    "  prediction = classify_email(email_content)\n",
    "  print(f\"ID: {email_id}, Classification: {prediction}\")\n"
   ]
  }
 ],
 "metadata": {
  "kernelspec": {
   "display_name": "my_venv",
   "language": "python",
   "name": "python3"
  },
  "language_info": {
   "codemirror_mode": {
    "name": "ipython",
    "version": 3
   },
   "file_extension": ".py",
   "mimetype": "text/x-python",
   "name": "python",
   "nbconvert_exporter": "python",
   "pygments_lexer": "ipython3",
   "version": "3.11.6"
  }
 },
 "nbformat": 4,
 "nbformat_minor": 2
}
